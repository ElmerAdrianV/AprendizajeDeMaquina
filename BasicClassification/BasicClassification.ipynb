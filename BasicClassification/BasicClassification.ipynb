{
  "cells": [
    {
      "cell_type": "markdown",
      "metadata": {
        "id": "uFROhSIjFjSu"
      },
      "source": [
        "# * Prerequisites"
      ]
    },
    {
      "cell_type": "markdown",
      "metadata": {
        "id": "fAIembldFjSw"
      },
      "source": [
        "You should familiarize yourself with the `numpy.ndarray` class of python's `numpy` library.\n",
        "\n",
        "You should be able to answer the following questions before starting this assignment. Let's assume `a` is a numpy array.\n",
        "* What is an array's shape (e.g., what is the meaning of `a.shape`)?  \n",
        "* What is numpy's reshaping operation? How much computational over-head would it induce?  \n",
        "* What is numpy's transpose operation, and how it is different from reshaping? Does it cause computation overhead?\n",
        "* What is the meaning of the commands `a.reshape(-1, 1)` and `a.reshape(-1)`?\n",
        "* Would happens to the variable `a` after we call `b = a.reshape(-1)`? Does any of `a`'s attributes change?\n",
        "* How do assignments in python and numpy work in general?\n",
        "    * Does the `b=a` statement use copying by value? Or is it copying by reference?\n",
        "    * Is the answer to the previous question change depending on whether `a` is a numpy array or a scalar value?\n",
        "    \n",
        "You can answer all of these questions by\n",
        "\n",
        "    1. Reading numpy's documentation from https://numpy.org/doc/stable/.\n",
        "    2. Making trials using dummy variables."
      ]
    },
    {
      "cell_type": "markdown",
      "metadata": {
        "id": "E1GzYEiZFjSx"
      },
      "source": [
        "# *Assignment Summary"
      ]
    },
    {
      "cell_type": "markdown",
      "metadata": {
        "id": "_3Yv1SsjFjSx"
      },
      "source": [
        "The UC Irvine machine learning data repository hosts a famous collection of data on whether a patient has diabetes (the Pima Indians dataset), originally owned by the National Institute of Diabetes and Digestive and Kidney Diseases and donated by Vincent Sigillito. You can find this data at  https://www.kaggle.com/uciml/pima-indians-diabetes-database/data. This data has a set of attributes of patients, and a categorical variable telling whether the patient is diabetic or not. For several attributes in this data set, a value of 0 may indicate a missing value of the variable.\n",
        "\n",
        "* **Part 1-A)** Build a simple naive Bayes classifier to classify this data set. We will use 20% of the data for evaluation and the other 80% for training. \n",
        "\n",
        "  There are a total of 768 data-points. You should use a normal distribution to model each of the class-conditional distributions. You should write this classifier yourself (it's quite straight-forward).\n",
        "\n",
        "  Report the accuracy of the classifier on the 20% evaluation data, where accuracy is the number of correct predictions as a fraction of total predictions.\n",
        "\n",
        "* **Part 1-B)** Now adjust your code so that, for attribute 3 (Diastolic blood pressure), attribute 4 (Triceps skin fold thickness), attribute 6 (Body mass index), and attribute 8 (Age), it regards a value of 0 as a missing value when estimating the class-conditional distributions, and the posterior.\n",
        "\n",
        "  Report the accuracy of the classifier on the 20% that was held out for evaluation.\n",
        "\n",
        "* **Part 1-C)** Now install SVMLight, which you can find at http://svmlight.joachims.org, to train and evaluate an SVM to classify this data.\n",
        "\n",
        "  You don't need to understand much about SVM's to do this as we'll do that in following exercises. You should NOT substitute NA values for zeros for attributes 3, 4, 6, and 8.\n",
        "  \n",
        "  Report the accuracy of the classifier on the held out 20%"
      ]
    },
    {
      "cell_type": "markdown",
      "metadata": {
        "id": "jstlb5jaFjSy"
      },
      "source": [
        "# 0. Data"
      ]
    },
    {
      "cell_type": "markdown",
      "metadata": {
        "id": "GQhP5oiBFjSy"
      },
      "source": [
        "## 0.1 Description"
      ]
    },
    {
      "cell_type": "markdown",
      "metadata": {
        "id": "hiATIkc1FjSy"
      },
      "source": [
        "The UC Irvine's Machine Learning Data Repository Department hosts a Kaggle Competition with famous collection of data on whether a patient has diabetes (the Pima Indians dataset), originally owned by the National Institute of Diabetes and Digestive and Kidney Diseases and donated by Vincent Sigillito. \n",
        "\n",
        "You can find this data at https://www.kaggle.com/uciml/pima-indians-diabetes-database/data. The Kaggle website offers valuable visualizations of the original data dimensions in its dashboard. It is quite insightful to take the time and make sense of the data using their dashboard before applying any method to the data."
      ]
    },
    {
      "cell_type": "markdown",
      "metadata": {
        "id": "DTFXNeW5FjSy"
      },
      "source": [
        "## 0.2 Information Summary"
      ]
    },
    {
      "cell_type": "markdown",
      "metadata": {
        "id": "hA9-hgPIFjSy"
      },
      "source": [
        "* **Input/Output**: This data has a set of attributes of patients, and a categorical variable telling whether the patient is diabetic or not. \n",
        "\n",
        "* **Missing Data**: For several attributes in this data set, a value of 0 may indicate a missing value of the variable.\n",
        "\n",
        "* **Final Goal**: We want to build a classifier that can predict whether a patient has diabetes or not. To do this, we will train multiple kinds of models, and will be handing the missing data with different approaches for each method (i.e., some methods will ignore their existence, while others may do something about the missing data)."
      ]
    },
    {
      "cell_type": "markdown",
      "metadata": {
        "id": "ebGqs4mrFjSz"
      },
      "source": [
        "## 0.3 Loading"
      ]
    },
    {
      "cell_type": "code",
      "execution_count": 1,
      "metadata": {
        "id": "YOdF8tJqFjSz"
      },
      "outputs": [],
      "source": [
        "%matplotlib inline\n",
        "import pandas as pd\n",
        "import numpy as np\n",
        "import seaborn as sns\n",
        "import matplotlib.pyplot as plt\n",
        "\n",
        "#from utils import test_case_checker"
      ]
    },
    {
      "cell_type": "code",
      "execution_count": 4,
      "metadata": {
        "colab": {
          "base_uri": "https://localhost:8080/",
          "height": 204
        },
        "id": "BIIDDd_TFjS0",
        "outputId": "49f0eff2-79cd-475b-9822-36050225af26"
      },
      "outputs": [
        {
          "data": {
            "text/html": [
              "\n",
              "  <div id=\"df-4ad8ec11-b09a-4198-b60f-bf72a5039471\">\n",
              "    <div class=\"colab-df-container\">\n",
              "      <div>\n",
              "<style scoped>\n",
              "    .dataframe tbody tr th:only-of-type {\n",
              "        vertical-align: middle;\n",
              "    }\n",
              "\n",
              "    .dataframe tbody tr th {\n",
              "        vertical-align: top;\n",
              "    }\n",
              "\n",
              "    .dataframe thead th {\n",
              "        text-align: right;\n",
              "    }\n",
              "</style>\n",
              "<table border=\"1\" class=\"dataframe\">\n",
              "  <thead>\n",
              "    <tr style=\"text-align: right;\">\n",
              "      <th></th>\n",
              "      <th>Pregnancies</th>\n",
              "      <th>Glucose</th>\n",
              "      <th>BloodPressure</th>\n",
              "      <th>SkinThickness</th>\n",
              "      <th>Insulin</th>\n",
              "      <th>BMI</th>\n",
              "      <th>DiabetesPedigreeFunction</th>\n",
              "      <th>Age</th>\n",
              "      <th>Outcome</th>\n",
              "    </tr>\n",
              "  </thead>\n",
              "  <tbody>\n",
              "    <tr>\n",
              "      <th>0</th>\n",
              "      <td>6</td>\n",
              "      <td>148</td>\n",
              "      <td>72</td>\n",
              "      <td>35</td>\n",
              "      <td>0</td>\n",
              "      <td>33.6</td>\n",
              "      <td>0.627</td>\n",
              "      <td>50</td>\n",
              "      <td>1</td>\n",
              "    </tr>\n",
              "    <tr>\n",
              "      <th>1</th>\n",
              "      <td>1</td>\n",
              "      <td>85</td>\n",
              "      <td>66</td>\n",
              "      <td>29</td>\n",
              "      <td>0</td>\n",
              "      <td>26.6</td>\n",
              "      <td>0.351</td>\n",
              "      <td>31</td>\n",
              "      <td>0</td>\n",
              "    </tr>\n",
              "    <tr>\n",
              "      <th>2</th>\n",
              "      <td>8</td>\n",
              "      <td>183</td>\n",
              "      <td>64</td>\n",
              "      <td>0</td>\n",
              "      <td>0</td>\n",
              "      <td>23.3</td>\n",
              "      <td>0.672</td>\n",
              "      <td>32</td>\n",
              "      <td>1</td>\n",
              "    </tr>\n",
              "    <tr>\n",
              "      <th>3</th>\n",
              "      <td>1</td>\n",
              "      <td>89</td>\n",
              "      <td>66</td>\n",
              "      <td>23</td>\n",
              "      <td>94</td>\n",
              "      <td>28.1</td>\n",
              "      <td>0.167</td>\n",
              "      <td>21</td>\n",
              "      <td>0</td>\n",
              "    </tr>\n",
              "    <tr>\n",
              "      <th>4</th>\n",
              "      <td>0</td>\n",
              "      <td>137</td>\n",
              "      <td>40</td>\n",
              "      <td>35</td>\n",
              "      <td>168</td>\n",
              "      <td>43.1</td>\n",
              "      <td>2.288</td>\n",
              "      <td>33</td>\n",
              "      <td>1</td>\n",
              "    </tr>\n",
              "  </tbody>\n",
              "</table>\n",
              "</div>\n",
              "      <button class=\"colab-df-convert\" onclick=\"convertToInteractive('df-4ad8ec11-b09a-4198-b60f-bf72a5039471')\"\n",
              "              title=\"Convert this dataframe to an interactive table.\"\n",
              "              style=\"display:none;\">\n",
              "        \n",
              "  <svg xmlns=\"http://www.w3.org/2000/svg\" height=\"24px\"viewBox=\"0 0 24 24\"\n",
              "       width=\"24px\">\n",
              "    <path d=\"M0 0h24v24H0V0z\" fill=\"none\"/>\n",
              "    <path d=\"M18.56 5.44l.94 2.06.94-2.06 2.06-.94-2.06-.94-.94-2.06-.94 2.06-2.06.94zm-11 1L8.5 8.5l.94-2.06 2.06-.94-2.06-.94L8.5 2.5l-.94 2.06-2.06.94zm10 10l.94 2.06.94-2.06 2.06-.94-2.06-.94-.94-2.06-.94 2.06-2.06.94z\"/><path d=\"M17.41 7.96l-1.37-1.37c-.4-.4-.92-.59-1.43-.59-.52 0-1.04.2-1.43.59L10.3 9.45l-7.72 7.72c-.78.78-.78 2.05 0 2.83L4 21.41c.39.39.9.59 1.41.59.51 0 1.02-.2 1.41-.59l7.78-7.78 2.81-2.81c.8-.78.8-2.07 0-2.86zM5.41 20L4 18.59l7.72-7.72 1.47 1.35L5.41 20z\"/>\n",
              "  </svg>\n",
              "      </button>\n",
              "      \n",
              "  <style>\n",
              "    .colab-df-container {\n",
              "      display:flex;\n",
              "      flex-wrap:wrap;\n",
              "      gap: 12px;\n",
              "    }\n",
              "\n",
              "    .colab-df-convert {\n",
              "      background-color: #E8F0FE;\n",
              "      border: none;\n",
              "      border-radius: 50%;\n",
              "      cursor: pointer;\n",
              "      display: none;\n",
              "      fill: #1967D2;\n",
              "      height: 32px;\n",
              "      padding: 0 0 0 0;\n",
              "      width: 32px;\n",
              "    }\n",
              "\n",
              "    .colab-df-convert:hover {\n",
              "      background-color: #E2EBFA;\n",
              "      box-shadow: 0px 1px 2px rgba(60, 64, 67, 0.3), 0px 1px 3px 1px rgba(60, 64, 67, 0.15);\n",
              "      fill: #174EA6;\n",
              "    }\n",
              "\n",
              "    [theme=dark] .colab-df-convert {\n",
              "      background-color: #3B4455;\n",
              "      fill: #D2E3FC;\n",
              "    }\n",
              "\n",
              "    [theme=dark] .colab-df-convert:hover {\n",
              "      background-color: #434B5C;\n",
              "      box-shadow: 0px 1px 3px 1px rgba(0, 0, 0, 0.15);\n",
              "      filter: drop-shadow(0px 1px 2px rgba(0, 0, 0, 0.3));\n",
              "      fill: #FFFFFF;\n",
              "    }\n",
              "  </style>\n",
              "\n",
              "      <script>\n",
              "        const buttonEl =\n",
              "          document.querySelector('#df-4ad8ec11-b09a-4198-b60f-bf72a5039471 button.colab-df-convert');\n",
              "        buttonEl.style.display =\n",
              "          google.colab.kernel.accessAllowed ? 'block' : 'none';\n",
              "\n",
              "        async function convertToInteractive(key) {\n",
              "          const element = document.querySelector('#df-4ad8ec11-b09a-4198-b60f-bf72a5039471');\n",
              "          const dataTable =\n",
              "            await google.colab.kernel.invokeFunction('convertToInteractive',\n",
              "                                                     [key], {});\n",
              "          if (!dataTable) return;\n",
              "\n",
              "          const docLinkHtml = 'Like what you see? Visit the ' +\n",
              "            '<a target=\"_blank\" href=https://colab.research.google.com/notebooks/data_table.ipynb>data table notebook</a>'\n",
              "            + ' to learn more about interactive tables.';\n",
              "          element.innerHTML = '';\n",
              "          dataTable['output_type'] = 'display_data';\n",
              "          await google.colab.output.renderOutput(dataTable, element);\n",
              "          const docLink = document.createElement('div');\n",
              "          docLink.innerHTML = docLinkHtml;\n",
              "          element.appendChild(docLink);\n",
              "        }\n",
              "      </script>\n",
              "    </div>\n",
              "  </div>\n",
              "  "
            ],
            "text/plain": [
              "   Pregnancies  Glucose  BloodPressure  SkinThickness  Insulin   BMI  \\\n",
              "0            6      148             72             35        0  33.6   \n",
              "1            1       85             66             29        0  26.6   \n",
              "2            8      183             64              0        0  23.3   \n",
              "3            1       89             66             23       94  28.1   \n",
              "4            0      137             40             35      168  43.1   \n",
              "\n",
              "   DiabetesPedigreeFunction  Age  Outcome  \n",
              "0                     0.627   50        1  \n",
              "1                     0.351   31        0  \n",
              "2                     0.672   32        1  \n",
              "3                     0.167   21        0  \n",
              "4                     2.288   33        1  "
            ]
          },
          "execution_count": 4,
          "metadata": {},
          "output_type": "execute_result"
        }
      ],
      "source": [
        "df = pd.read_csv('diabetes.csv')\n",
        "df.head()"
      ]
    },
    {
      "cell_type": "markdown",
      "metadata": {
        "id": "8tSIoWByFjS0"
      },
      "source": [
        "## 0.1 Splitting The Data"
      ]
    },
    {
      "cell_type": "markdown",
      "metadata": {
        "id": "LSE9TEL8FjS0"
      },
      "source": [
        "First, we will shuffle the data completely, and forget about the order in the original csv file. \n",
        "\n",
        "* The training and evaluation dataframes will be named ```train_df``` and ```eval_df```, respectively.\n",
        "\n",
        "* We will also create the 2-d numpy array `train_features` whose number of rows is the number of training samples, and the number of columns is 8 (i.e., the number of features). We will define `eval_features` in a similar fashion\n",
        "\n",
        "* We would also create the 1-d numpy arrays `train_labels` and `eval_labels` which contain the training and evaluation labels, respectively."
      ]
    },
    {
      "cell_type": "code",
      "execution_count": 5,
      "metadata": {
        "id": "C2248CxQFjS1"
      },
      "outputs": [],
      "source": [
        "# Let's generate the split ourselves.\n",
        "np_random = np.random.RandomState(seed=12345)\n",
        "rand_unifs = np_random.uniform(0,1,size=df.shape[0])\n",
        "division_thresh = np.percentile(rand_unifs, 80)\n",
        "train_indicator = rand_unifs < division_thresh\n",
        "eval_indicator = rand_unifs >= division_thresh\n"
      ]
    },
    {
      "cell_type": "code",
      "execution_count": 6,
      "metadata": {
        "colab": {
          "base_uri": "https://localhost:8080/",
          "height": 204
        },
        "id": "UPe5gz51FjS1",
        "outputId": "07321111-cc12-47bd-d126-0c3cd263d07b"
      },
      "outputs": [
        {
          "data": {
            "text/html": [
              "\n",
              "  <div id=\"df-6050560c-63a5-4d45-9afd-5e6f799ea379\">\n",
              "    <div class=\"colab-df-container\">\n",
              "      <div>\n",
              "<style scoped>\n",
              "    .dataframe tbody tr th:only-of-type {\n",
              "        vertical-align: middle;\n",
              "    }\n",
              "\n",
              "    .dataframe tbody tr th {\n",
              "        vertical-align: top;\n",
              "    }\n",
              "\n",
              "    .dataframe thead th {\n",
              "        text-align: right;\n",
              "    }\n",
              "</style>\n",
              "<table border=\"1\" class=\"dataframe\">\n",
              "  <thead>\n",
              "    <tr style=\"text-align: right;\">\n",
              "      <th></th>\n",
              "      <th>Pregnancies</th>\n",
              "      <th>Glucose</th>\n",
              "      <th>BloodPressure</th>\n",
              "      <th>SkinThickness</th>\n",
              "      <th>Insulin</th>\n",
              "      <th>BMI</th>\n",
              "      <th>DiabetesPedigreeFunction</th>\n",
              "      <th>Age</th>\n",
              "      <th>Outcome</th>\n",
              "    </tr>\n",
              "  </thead>\n",
              "  <tbody>\n",
              "    <tr>\n",
              "      <th>0</th>\n",
              "      <td>1</td>\n",
              "      <td>85</td>\n",
              "      <td>66</td>\n",
              "      <td>29</td>\n",
              "      <td>0</td>\n",
              "      <td>26.6</td>\n",
              "      <td>0.351</td>\n",
              "      <td>31</td>\n",
              "      <td>0</td>\n",
              "    </tr>\n",
              "    <tr>\n",
              "      <th>1</th>\n",
              "      <td>8</td>\n",
              "      <td>183</td>\n",
              "      <td>64</td>\n",
              "      <td>0</td>\n",
              "      <td>0</td>\n",
              "      <td>23.3</td>\n",
              "      <td>0.672</td>\n",
              "      <td>32</td>\n",
              "      <td>1</td>\n",
              "    </tr>\n",
              "    <tr>\n",
              "      <th>2</th>\n",
              "      <td>1</td>\n",
              "      <td>89</td>\n",
              "      <td>66</td>\n",
              "      <td>23</td>\n",
              "      <td>94</td>\n",
              "      <td>28.1</td>\n",
              "      <td>0.167</td>\n",
              "      <td>21</td>\n",
              "      <td>0</td>\n",
              "    </tr>\n",
              "    <tr>\n",
              "      <th>3</th>\n",
              "      <td>0</td>\n",
              "      <td>137</td>\n",
              "      <td>40</td>\n",
              "      <td>35</td>\n",
              "      <td>168</td>\n",
              "      <td>43.1</td>\n",
              "      <td>2.288</td>\n",
              "      <td>33</td>\n",
              "      <td>1</td>\n",
              "    </tr>\n",
              "    <tr>\n",
              "      <th>4</th>\n",
              "      <td>5</td>\n",
              "      <td>116</td>\n",
              "      <td>74</td>\n",
              "      <td>0</td>\n",
              "      <td>0</td>\n",
              "      <td>25.6</td>\n",
              "      <td>0.201</td>\n",
              "      <td>30</td>\n",
              "      <td>0</td>\n",
              "    </tr>\n",
              "  </tbody>\n",
              "</table>\n",
              "</div>\n",
              "      <button class=\"colab-df-convert\" onclick=\"convertToInteractive('df-6050560c-63a5-4d45-9afd-5e6f799ea379')\"\n",
              "              title=\"Convert this dataframe to an interactive table.\"\n",
              "              style=\"display:none;\">\n",
              "        \n",
              "  <svg xmlns=\"http://www.w3.org/2000/svg\" height=\"24px\"viewBox=\"0 0 24 24\"\n",
              "       width=\"24px\">\n",
              "    <path d=\"M0 0h24v24H0V0z\" fill=\"none\"/>\n",
              "    <path d=\"M18.56 5.44l.94 2.06.94-2.06 2.06-.94-2.06-.94-.94-2.06-.94 2.06-2.06.94zm-11 1L8.5 8.5l.94-2.06 2.06-.94-2.06-.94L8.5 2.5l-.94 2.06-2.06.94zm10 10l.94 2.06.94-2.06 2.06-.94-2.06-.94-.94-2.06-.94 2.06-2.06.94z\"/><path d=\"M17.41 7.96l-1.37-1.37c-.4-.4-.92-.59-1.43-.59-.52 0-1.04.2-1.43.59L10.3 9.45l-7.72 7.72c-.78.78-.78 2.05 0 2.83L4 21.41c.39.39.9.59 1.41.59.51 0 1.02-.2 1.41-.59l7.78-7.78 2.81-2.81c.8-.78.8-2.07 0-2.86zM5.41 20L4 18.59l7.72-7.72 1.47 1.35L5.41 20z\"/>\n",
              "  </svg>\n",
              "      </button>\n",
              "      \n",
              "  <style>\n",
              "    .colab-df-container {\n",
              "      display:flex;\n",
              "      flex-wrap:wrap;\n",
              "      gap: 12px;\n",
              "    }\n",
              "\n",
              "    .colab-df-convert {\n",
              "      background-color: #E8F0FE;\n",
              "      border: none;\n",
              "      border-radius: 50%;\n",
              "      cursor: pointer;\n",
              "      display: none;\n",
              "      fill: #1967D2;\n",
              "      height: 32px;\n",
              "      padding: 0 0 0 0;\n",
              "      width: 32px;\n",
              "    }\n",
              "\n",
              "    .colab-df-convert:hover {\n",
              "      background-color: #E2EBFA;\n",
              "      box-shadow: 0px 1px 2px rgba(60, 64, 67, 0.3), 0px 1px 3px 1px rgba(60, 64, 67, 0.15);\n",
              "      fill: #174EA6;\n",
              "    }\n",
              "\n",
              "    [theme=dark] .colab-df-convert {\n",
              "      background-color: #3B4455;\n",
              "      fill: #D2E3FC;\n",
              "    }\n",
              "\n",
              "    [theme=dark] .colab-df-convert:hover {\n",
              "      background-color: #434B5C;\n",
              "      box-shadow: 0px 1px 3px 1px rgba(0, 0, 0, 0.15);\n",
              "      filter: drop-shadow(0px 1px 2px rgba(0, 0, 0, 0.3));\n",
              "      fill: #FFFFFF;\n",
              "    }\n",
              "  </style>\n",
              "\n",
              "      <script>\n",
              "        const buttonEl =\n",
              "          document.querySelector('#df-6050560c-63a5-4d45-9afd-5e6f799ea379 button.colab-df-convert');\n",
              "        buttonEl.style.display =\n",
              "          google.colab.kernel.accessAllowed ? 'block' : 'none';\n",
              "\n",
              "        async function convertToInteractive(key) {\n",
              "          const element = document.querySelector('#df-6050560c-63a5-4d45-9afd-5e6f799ea379');\n",
              "          const dataTable =\n",
              "            await google.colab.kernel.invokeFunction('convertToInteractive',\n",
              "                                                     [key], {});\n",
              "          if (!dataTable) return;\n",
              "\n",
              "          const docLinkHtml = 'Like what you see? Visit the ' +\n",
              "            '<a target=\"_blank\" href=https://colab.research.google.com/notebooks/data_table.ipynb>data table notebook</a>'\n",
              "            + ' to learn more about interactive tables.';\n",
              "          element.innerHTML = '';\n",
              "          dataTable['output_type'] = 'display_data';\n",
              "          await google.colab.output.renderOutput(dataTable, element);\n",
              "          const docLink = document.createElement('div');\n",
              "          docLink.innerHTML = docLinkHtml;\n",
              "          element.appendChild(docLink);\n",
              "        }\n",
              "      </script>\n",
              "    </div>\n",
              "  </div>\n",
              "  "
            ],
            "text/plain": [
              "   Pregnancies  Glucose  BloodPressure  SkinThickness  Insulin   BMI  \\\n",
              "0            1       85             66             29        0  26.6   \n",
              "1            8      183             64              0        0  23.3   \n",
              "2            1       89             66             23       94  28.1   \n",
              "3            0      137             40             35      168  43.1   \n",
              "4            5      116             74              0        0  25.6   \n",
              "\n",
              "   DiabetesPedigreeFunction  Age  Outcome  \n",
              "0                     0.351   31        0  \n",
              "1                     0.672   32        1  \n",
              "2                     0.167   21        0  \n",
              "3                     2.288   33        1  \n",
              "4                     0.201   30        0  "
            ]
          },
          "execution_count": 6,
          "metadata": {},
          "output_type": "execute_result"
        }
      ],
      "source": [
        "train_df = df[train_indicator].reset_index(drop=True)\n",
        "train_features = train_df.loc[:, train_df.columns != 'Outcome'].values\n",
        "train_labels = train_df['Outcome'].values\n",
        "train_df.head()"
      ]
    },
    {
      "cell_type": "code",
      "execution_count": 7,
      "metadata": {
        "colab": {
          "base_uri": "https://localhost:8080/",
          "height": 204
        },
        "id": "OgwfHWb3FjS2",
        "outputId": "08005490-b176-432f-841d-8c98012f53bc"
      },
      "outputs": [
        {
          "data": {
            "text/html": [
              "\n",
              "  <div id=\"df-466edc64-7911-481a-9ce9-f7dacd8f87cb\">\n",
              "    <div class=\"colab-df-container\">\n",
              "      <div>\n",
              "<style scoped>\n",
              "    .dataframe tbody tr th:only-of-type {\n",
              "        vertical-align: middle;\n",
              "    }\n",
              "\n",
              "    .dataframe tbody tr th {\n",
              "        vertical-align: top;\n",
              "    }\n",
              "\n",
              "    .dataframe thead th {\n",
              "        text-align: right;\n",
              "    }\n",
              "</style>\n",
              "<table border=\"1\" class=\"dataframe\">\n",
              "  <thead>\n",
              "    <tr style=\"text-align: right;\">\n",
              "      <th></th>\n",
              "      <th>Pregnancies</th>\n",
              "      <th>Glucose</th>\n",
              "      <th>BloodPressure</th>\n",
              "      <th>SkinThickness</th>\n",
              "      <th>Insulin</th>\n",
              "      <th>BMI</th>\n",
              "      <th>DiabetesPedigreeFunction</th>\n",
              "      <th>Age</th>\n",
              "      <th>Outcome</th>\n",
              "    </tr>\n",
              "  </thead>\n",
              "  <tbody>\n",
              "    <tr>\n",
              "      <th>0</th>\n",
              "      <td>6</td>\n",
              "      <td>148</td>\n",
              "      <td>72</td>\n",
              "      <td>35</td>\n",
              "      <td>0</td>\n",
              "      <td>33.6</td>\n",
              "      <td>0.627</td>\n",
              "      <td>50</td>\n",
              "      <td>1</td>\n",
              "    </tr>\n",
              "    <tr>\n",
              "      <th>1</th>\n",
              "      <td>3</td>\n",
              "      <td>78</td>\n",
              "      <td>50</td>\n",
              "      <td>32</td>\n",
              "      <td>88</td>\n",
              "      <td>31.0</td>\n",
              "      <td>0.248</td>\n",
              "      <td>26</td>\n",
              "      <td>1</td>\n",
              "    </tr>\n",
              "    <tr>\n",
              "      <th>2</th>\n",
              "      <td>10</td>\n",
              "      <td>168</td>\n",
              "      <td>74</td>\n",
              "      <td>0</td>\n",
              "      <td>0</td>\n",
              "      <td>38.0</td>\n",
              "      <td>0.537</td>\n",
              "      <td>34</td>\n",
              "      <td>1</td>\n",
              "    </tr>\n",
              "    <tr>\n",
              "      <th>3</th>\n",
              "      <td>0</td>\n",
              "      <td>118</td>\n",
              "      <td>84</td>\n",
              "      <td>47</td>\n",
              "      <td>230</td>\n",
              "      <td>45.8</td>\n",
              "      <td>0.551</td>\n",
              "      <td>31</td>\n",
              "      <td>1</td>\n",
              "    </tr>\n",
              "    <tr>\n",
              "      <th>4</th>\n",
              "      <td>7</td>\n",
              "      <td>107</td>\n",
              "      <td>74</td>\n",
              "      <td>0</td>\n",
              "      <td>0</td>\n",
              "      <td>29.6</td>\n",
              "      <td>0.254</td>\n",
              "      <td>31</td>\n",
              "      <td>1</td>\n",
              "    </tr>\n",
              "  </tbody>\n",
              "</table>\n",
              "</div>\n",
              "      <button class=\"colab-df-convert\" onclick=\"convertToInteractive('df-466edc64-7911-481a-9ce9-f7dacd8f87cb')\"\n",
              "              title=\"Convert this dataframe to an interactive table.\"\n",
              "              style=\"display:none;\">\n",
              "        \n",
              "  <svg xmlns=\"http://www.w3.org/2000/svg\" height=\"24px\"viewBox=\"0 0 24 24\"\n",
              "       width=\"24px\">\n",
              "    <path d=\"M0 0h24v24H0V0z\" fill=\"none\"/>\n",
              "    <path d=\"M18.56 5.44l.94 2.06.94-2.06 2.06-.94-2.06-.94-.94-2.06-.94 2.06-2.06.94zm-11 1L8.5 8.5l.94-2.06 2.06-.94-2.06-.94L8.5 2.5l-.94 2.06-2.06.94zm10 10l.94 2.06.94-2.06 2.06-.94-2.06-.94-.94-2.06-.94 2.06-2.06.94z\"/><path d=\"M17.41 7.96l-1.37-1.37c-.4-.4-.92-.59-1.43-.59-.52 0-1.04.2-1.43.59L10.3 9.45l-7.72 7.72c-.78.78-.78 2.05 0 2.83L4 21.41c.39.39.9.59 1.41.59.51 0 1.02-.2 1.41-.59l7.78-7.78 2.81-2.81c.8-.78.8-2.07 0-2.86zM5.41 20L4 18.59l7.72-7.72 1.47 1.35L5.41 20z\"/>\n",
              "  </svg>\n",
              "      </button>\n",
              "      \n",
              "  <style>\n",
              "    .colab-df-container {\n",
              "      display:flex;\n",
              "      flex-wrap:wrap;\n",
              "      gap: 12px;\n",
              "    }\n",
              "\n",
              "    .colab-df-convert {\n",
              "      background-color: #E8F0FE;\n",
              "      border: none;\n",
              "      border-radius: 50%;\n",
              "      cursor: pointer;\n",
              "      display: none;\n",
              "      fill: #1967D2;\n",
              "      height: 32px;\n",
              "      padding: 0 0 0 0;\n",
              "      width: 32px;\n",
              "    }\n",
              "\n",
              "    .colab-df-convert:hover {\n",
              "      background-color: #E2EBFA;\n",
              "      box-shadow: 0px 1px 2px rgba(60, 64, 67, 0.3), 0px 1px 3px 1px rgba(60, 64, 67, 0.15);\n",
              "      fill: #174EA6;\n",
              "    }\n",
              "\n",
              "    [theme=dark] .colab-df-convert {\n",
              "      background-color: #3B4455;\n",
              "      fill: #D2E3FC;\n",
              "    }\n",
              "\n",
              "    [theme=dark] .colab-df-convert:hover {\n",
              "      background-color: #434B5C;\n",
              "      box-shadow: 0px 1px 3px 1px rgba(0, 0, 0, 0.15);\n",
              "      filter: drop-shadow(0px 1px 2px rgba(0, 0, 0, 0.3));\n",
              "      fill: #FFFFFF;\n",
              "    }\n",
              "  </style>\n",
              "\n",
              "      <script>\n",
              "        const buttonEl =\n",
              "          document.querySelector('#df-466edc64-7911-481a-9ce9-f7dacd8f87cb button.colab-df-convert');\n",
              "        buttonEl.style.display =\n",
              "          google.colab.kernel.accessAllowed ? 'block' : 'none';\n",
              "\n",
              "        async function convertToInteractive(key) {\n",
              "          const element = document.querySelector('#df-466edc64-7911-481a-9ce9-f7dacd8f87cb');\n",
              "          const dataTable =\n",
              "            await google.colab.kernel.invokeFunction('convertToInteractive',\n",
              "                                                     [key], {});\n",
              "          if (!dataTable) return;\n",
              "\n",
              "          const docLinkHtml = 'Like what you see? Visit the ' +\n",
              "            '<a target=\"_blank\" href=https://colab.research.google.com/notebooks/data_table.ipynb>data table notebook</a>'\n",
              "            + ' to learn more about interactive tables.';\n",
              "          element.innerHTML = '';\n",
              "          dataTable['output_type'] = 'display_data';\n",
              "          await google.colab.output.renderOutput(dataTable, element);\n",
              "          const docLink = document.createElement('div');\n",
              "          docLink.innerHTML = docLinkHtml;\n",
              "          element.appendChild(docLink);\n",
              "        }\n",
              "      </script>\n",
              "    </div>\n",
              "  </div>\n",
              "  "
            ],
            "text/plain": [
              "   Pregnancies  Glucose  BloodPressure  SkinThickness  Insulin   BMI  \\\n",
              "0            6      148             72             35        0  33.6   \n",
              "1            3       78             50             32       88  31.0   \n",
              "2           10      168             74              0        0  38.0   \n",
              "3            0      118             84             47      230  45.8   \n",
              "4            7      107             74              0        0  29.6   \n",
              "\n",
              "   DiabetesPedigreeFunction  Age  Outcome  \n",
              "0                     0.627   50        1  \n",
              "1                     0.248   26        1  \n",
              "2                     0.537   34        1  \n",
              "3                     0.551   31        1  \n",
              "4                     0.254   31        1  "
            ]
          },
          "execution_count": 7,
          "metadata": {},
          "output_type": "execute_result"
        }
      ],
      "source": [
        "eval_df = df[eval_indicator].reset_index(drop=True)\n",
        "eval_features = eval_df.loc[:, eval_df.columns != 'Outcome'].values\n",
        "eval_labels = eval_df['Outcome'].values\n",
        "eval_df.head()"
      ]
    },
    {
      "cell_type": "code",
      "execution_count": 8,
      "metadata": {
        "colab": {
          "base_uri": "https://localhost:8080/"
        },
        "id": "lo2fTSXbFjS2",
        "outputId": "62fa6856-4bc5-4a7d-a9d4-9fcd8a3b6943",
        "scrolled": true
      },
      "outputs": [
        {
          "data": {
            "text/plain": [
              "((614, 8), (614,), (154, 8), (154,))"
            ]
          },
          "execution_count": 8,
          "metadata": {},
          "output_type": "execute_result"
        }
      ],
      "source": [
        "train_features.shape, train_labels.shape, eval_features.shape, eval_labels.shape"
      ]
    },
    {
      "cell_type": "markdown",
      "metadata": {
        "id": "1zUGaV35FjS3"
      },
      "source": [
        "## 0.2 Pre-processing The Data"
      ]
    },
    {
      "cell_type": "markdown",
      "metadata": {
        "id": "gzaYTUR7FjS3"
      },
      "source": [
        "Some of the columns exhibit missing values. We will use a Naive Bayes Classifier later that will treat such missing values in a special way.  To be specific, for attribute 3 (Diastolic blood pressure), attribute 4 (Triceps skin fold thickness), attribute 6 (Body mass index), and attribute 8 (Age), we should regard a value of 0 as a missing value.\n",
        "\n",
        "Therefore, we will be creating the `train_featues_with_nans` and `eval_features_with_nans` numpy arrays to be just like their `train_features` and `eval_features` counter-parts, but with the zero-values in such columns replaced with nans."
      ]
    },
    {
      "cell_type": "code",
      "execution_count": 9,
      "metadata": {
        "id": "sCGTockzFjS3"
      },
      "outputs": [],
      "source": [
        "train_df_with_nans = train_df.copy(deep=True)\n",
        "eval_df_with_nans = eval_df.copy(deep=True)\n",
        "for col_with_nans in ['BloodPressure', 'SkinThickness', 'BMI', 'Age']:\n",
        "    train_df_with_nans[col_with_nans] = train_df_with_nans[col_with_nans].replace(0, np.nan)\n",
        "    eval_df_with_nans[col_with_nans] = eval_df_with_nans[col_with_nans].replace(0, np.nan)\n",
        "train_features_with_nans = train_df_with_nans.loc[:, train_df_with_nans.columns != 'Outcome'].values\n",
        "eval_features_with_nans = eval_df_with_nans.loc[:, eval_df_with_nans.columns != 'Outcome'].values"
      ]
    },
    {
      "cell_type": "code",
      "execution_count": 10,
      "metadata": {
        "colab": {
          "base_uri": "https://localhost:8080/",
          "height": 487
        },
        "id": "-VjCsvJYFjS4",
        "outputId": "875c7d26-cee5-4c5f-8de8-4967371c941f",
        "scrolled": true
      },
      "outputs": [
        {
          "name": "stdout",
          "output_type": "stream",
          "text": [
            "Here are the training rows with at least one missing values.\n",
            "\n",
            "You can see that such incomplete data points constitute a substantial part of the data.\n",
            "\n"
          ]
        },
        {
          "data": {
            "text/html": [
              "\n",
              "  <div id=\"df-ba9358ee-7d8b-4171-a6d6-345f729d3f12\">\n",
              "    <div class=\"colab-df-container\">\n",
              "      <div>\n",
              "<style scoped>\n",
              "    .dataframe tbody tr th:only-of-type {\n",
              "        vertical-align: middle;\n",
              "    }\n",
              "\n",
              "    .dataframe tbody tr th {\n",
              "        vertical-align: top;\n",
              "    }\n",
              "\n",
              "    .dataframe thead th {\n",
              "        text-align: right;\n",
              "    }\n",
              "</style>\n",
              "<table border=\"1\" class=\"dataframe\">\n",
              "  <thead>\n",
              "    <tr style=\"text-align: right;\">\n",
              "      <th></th>\n",
              "      <th>Pregnancies</th>\n",
              "      <th>Glucose</th>\n",
              "      <th>BloodPressure</th>\n",
              "      <th>SkinThickness</th>\n",
              "      <th>Insulin</th>\n",
              "      <th>BMI</th>\n",
              "      <th>DiabetesPedigreeFunction</th>\n",
              "      <th>Age</th>\n",
              "      <th>Outcome</th>\n",
              "    </tr>\n",
              "  </thead>\n",
              "  <tbody>\n",
              "    <tr>\n",
              "      <th>1</th>\n",
              "      <td>8</td>\n",
              "      <td>183</td>\n",
              "      <td>64.0</td>\n",
              "      <td>NaN</td>\n",
              "      <td>0</td>\n",
              "      <td>23.3</td>\n",
              "      <td>0.672</td>\n",
              "      <td>32</td>\n",
              "      <td>1</td>\n",
              "    </tr>\n",
              "    <tr>\n",
              "      <th>4</th>\n",
              "      <td>5</td>\n",
              "      <td>116</td>\n",
              "      <td>74.0</td>\n",
              "      <td>NaN</td>\n",
              "      <td>0</td>\n",
              "      <td>25.6</td>\n",
              "      <td>0.201</td>\n",
              "      <td>30</td>\n",
              "      <td>0</td>\n",
              "    </tr>\n",
              "    <tr>\n",
              "      <th>5</th>\n",
              "      <td>10</td>\n",
              "      <td>115</td>\n",
              "      <td>NaN</td>\n",
              "      <td>NaN</td>\n",
              "      <td>0</td>\n",
              "      <td>35.3</td>\n",
              "      <td>0.134</td>\n",
              "      <td>29</td>\n",
              "      <td>0</td>\n",
              "    </tr>\n",
              "    <tr>\n",
              "      <th>7</th>\n",
              "      <td>8</td>\n",
              "      <td>125</td>\n",
              "      <td>96.0</td>\n",
              "      <td>NaN</td>\n",
              "      <td>0</td>\n",
              "      <td>NaN</td>\n",
              "      <td>0.232</td>\n",
              "      <td>54</td>\n",
              "      <td>1</td>\n",
              "    </tr>\n",
              "    <tr>\n",
              "      <th>8</th>\n",
              "      <td>4</td>\n",
              "      <td>110</td>\n",
              "      <td>92.0</td>\n",
              "      <td>NaN</td>\n",
              "      <td>0</td>\n",
              "      <td>37.6</td>\n",
              "      <td>0.191</td>\n",
              "      <td>30</td>\n",
              "      <td>0</td>\n",
              "    </tr>\n",
              "    <tr>\n",
              "      <th>...</th>\n",
              "      <td>...</td>\n",
              "      <td>...</td>\n",
              "      <td>...</td>\n",
              "      <td>...</td>\n",
              "      <td>...</td>\n",
              "      <td>...</td>\n",
              "      <td>...</td>\n",
              "      <td>...</td>\n",
              "      <td>...</td>\n",
              "    </tr>\n",
              "    <tr>\n",
              "      <th>598</th>\n",
              "      <td>6</td>\n",
              "      <td>162</td>\n",
              "      <td>62.0</td>\n",
              "      <td>NaN</td>\n",
              "      <td>0</td>\n",
              "      <td>24.3</td>\n",
              "      <td>0.178</td>\n",
              "      <td>50</td>\n",
              "      <td>1</td>\n",
              "    </tr>\n",
              "    <tr>\n",
              "      <th>599</th>\n",
              "      <td>4</td>\n",
              "      <td>136</td>\n",
              "      <td>70.0</td>\n",
              "      <td>NaN</td>\n",
              "      <td>0</td>\n",
              "      <td>31.2</td>\n",
              "      <td>1.182</td>\n",
              "      <td>22</td>\n",
              "      <td>1</td>\n",
              "    </tr>\n",
              "    <tr>\n",
              "      <th>605</th>\n",
              "      <td>1</td>\n",
              "      <td>106</td>\n",
              "      <td>76.0</td>\n",
              "      <td>NaN</td>\n",
              "      <td>0</td>\n",
              "      <td>37.5</td>\n",
              "      <td>0.197</td>\n",
              "      <td>26</td>\n",
              "      <td>0</td>\n",
              "    </tr>\n",
              "    <tr>\n",
              "      <th>606</th>\n",
              "      <td>6</td>\n",
              "      <td>190</td>\n",
              "      <td>92.0</td>\n",
              "      <td>NaN</td>\n",
              "      <td>0</td>\n",
              "      <td>35.5</td>\n",
              "      <td>0.278</td>\n",
              "      <td>66</td>\n",
              "      <td>1</td>\n",
              "    </tr>\n",
              "    <tr>\n",
              "      <th>612</th>\n",
              "      <td>1</td>\n",
              "      <td>126</td>\n",
              "      <td>60.0</td>\n",
              "      <td>NaN</td>\n",
              "      <td>0</td>\n",
              "      <td>30.1</td>\n",
              "      <td>0.349</td>\n",
              "      <td>47</td>\n",
              "      <td>1</td>\n",
              "    </tr>\n",
              "  </tbody>\n",
              "</table>\n",
              "<p>186 rows × 9 columns</p>\n",
              "</div>\n",
              "      <button class=\"colab-df-convert\" onclick=\"convertToInteractive('df-ba9358ee-7d8b-4171-a6d6-345f729d3f12')\"\n",
              "              title=\"Convert this dataframe to an interactive table.\"\n",
              "              style=\"display:none;\">\n",
              "        \n",
              "  <svg xmlns=\"http://www.w3.org/2000/svg\" height=\"24px\"viewBox=\"0 0 24 24\"\n",
              "       width=\"24px\">\n",
              "    <path d=\"M0 0h24v24H0V0z\" fill=\"none\"/>\n",
              "    <path d=\"M18.56 5.44l.94 2.06.94-2.06 2.06-.94-2.06-.94-.94-2.06-.94 2.06-2.06.94zm-11 1L8.5 8.5l.94-2.06 2.06-.94-2.06-.94L8.5 2.5l-.94 2.06-2.06.94zm10 10l.94 2.06.94-2.06 2.06-.94-2.06-.94-.94-2.06-.94 2.06-2.06.94z\"/><path d=\"M17.41 7.96l-1.37-1.37c-.4-.4-.92-.59-1.43-.59-.52 0-1.04.2-1.43.59L10.3 9.45l-7.72 7.72c-.78.78-.78 2.05 0 2.83L4 21.41c.39.39.9.59 1.41.59.51 0 1.02-.2 1.41-.59l7.78-7.78 2.81-2.81c.8-.78.8-2.07 0-2.86zM5.41 20L4 18.59l7.72-7.72 1.47 1.35L5.41 20z\"/>\n",
              "  </svg>\n",
              "      </button>\n",
              "      \n",
              "  <style>\n",
              "    .colab-df-container {\n",
              "      display:flex;\n",
              "      flex-wrap:wrap;\n",
              "      gap: 12px;\n",
              "    }\n",
              "\n",
              "    .colab-df-convert {\n",
              "      background-color: #E8F0FE;\n",
              "      border: none;\n",
              "      border-radius: 50%;\n",
              "      cursor: pointer;\n",
              "      display: none;\n",
              "      fill: #1967D2;\n",
              "      height: 32px;\n",
              "      padding: 0 0 0 0;\n",
              "      width: 32px;\n",
              "    }\n",
              "\n",
              "    .colab-df-convert:hover {\n",
              "      background-color: #E2EBFA;\n",
              "      box-shadow: 0px 1px 2px rgba(60, 64, 67, 0.3), 0px 1px 3px 1px rgba(60, 64, 67, 0.15);\n",
              "      fill: #174EA6;\n",
              "    }\n",
              "\n",
              "    [theme=dark] .colab-df-convert {\n",
              "      background-color: #3B4455;\n",
              "      fill: #D2E3FC;\n",
              "    }\n",
              "\n",
              "    [theme=dark] .colab-df-convert:hover {\n",
              "      background-color: #434B5C;\n",
              "      box-shadow: 0px 1px 3px 1px rgba(0, 0, 0, 0.15);\n",
              "      filter: drop-shadow(0px 1px 2px rgba(0, 0, 0, 0.3));\n",
              "      fill: #FFFFFF;\n",
              "    }\n",
              "  </style>\n",
              "\n",
              "      <script>\n",
              "        const buttonEl =\n",
              "          document.querySelector('#df-ba9358ee-7d8b-4171-a6d6-345f729d3f12 button.colab-df-convert');\n",
              "        buttonEl.style.display =\n",
              "          google.colab.kernel.accessAllowed ? 'block' : 'none';\n",
              "\n",
              "        async function convertToInteractive(key) {\n",
              "          const element = document.querySelector('#df-ba9358ee-7d8b-4171-a6d6-345f729d3f12');\n",
              "          const dataTable =\n",
              "            await google.colab.kernel.invokeFunction('convertToInteractive',\n",
              "                                                     [key], {});\n",
              "          if (!dataTable) return;\n",
              "\n",
              "          const docLinkHtml = 'Like what you see? Visit the ' +\n",
              "            '<a target=\"_blank\" href=https://colab.research.google.com/notebooks/data_table.ipynb>data table notebook</a>'\n",
              "            + ' to learn more about interactive tables.';\n",
              "          element.innerHTML = '';\n",
              "          dataTable['output_type'] = 'display_data';\n",
              "          await google.colab.output.renderOutput(dataTable, element);\n",
              "          const docLink = document.createElement('div');\n",
              "          docLink.innerHTML = docLinkHtml;\n",
              "          element.appendChild(docLink);\n",
              "        }\n",
              "      </script>\n",
              "    </div>\n",
              "  </div>\n",
              "  "
            ],
            "text/plain": [
              "     Pregnancies  Glucose  BloodPressure  SkinThickness  Insulin   BMI  \\\n",
              "1              8      183           64.0            NaN        0  23.3   \n",
              "4              5      116           74.0            NaN        0  25.6   \n",
              "5             10      115            NaN            NaN        0  35.3   \n",
              "7              8      125           96.0            NaN        0   NaN   \n",
              "8              4      110           92.0            NaN        0  37.6   \n",
              "..           ...      ...            ...            ...      ...   ...   \n",
              "598            6      162           62.0            NaN        0  24.3   \n",
              "599            4      136           70.0            NaN        0  31.2   \n",
              "605            1      106           76.0            NaN        0  37.5   \n",
              "606            6      190           92.0            NaN        0  35.5   \n",
              "612            1      126           60.0            NaN        0  30.1   \n",
              "\n",
              "     DiabetesPedigreeFunction  Age  Outcome  \n",
              "1                       0.672   32        1  \n",
              "4                       0.201   30        0  \n",
              "5                       0.134   29        0  \n",
              "7                       0.232   54        1  \n",
              "8                       0.191   30        0  \n",
              "..                        ...  ...      ...  \n",
              "598                     0.178   50        1  \n",
              "599                     1.182   22        1  \n",
              "605                     0.197   26        0  \n",
              "606                     0.278   66        1  \n",
              "612                     0.349   47        1  \n",
              "\n",
              "[186 rows x 9 columns]"
            ]
          },
          "execution_count": 10,
          "metadata": {},
          "output_type": "execute_result"
        }
      ],
      "source": [
        "print('Here are the training rows with at least one missing values.')\n",
        "print('')\n",
        "print('You can see that such incomplete data points constitute a substantial part of the data.')\n",
        "print('')\n",
        "nan_training_data = train_df_with_nans[train_df_with_nans.isna().any(axis=1)]\n",
        "nan_training_data"
      ]
    },
    {
      "cell_type": "markdown",
      "metadata": {
        "id": "U7sfh1PeFjS4"
      },
      "source": [
        "# 1. Part 1 (Building a simple Naive Bayes Classifier)"
      ]
    },
    {
      "cell_type": "markdown",
      "metadata": {
        "id": "anawRFtGFjS4"
      },
      "source": [
        "Consider a single sample $(\\mathbf{x}, y)$, where the feature vector is denoted with $\\mathbf{x}$, and the label is denoted with $y$. We will also denote the $j^{th}$ feature of $\\mathbf{x}$ with $x^{(j)}$.\n",
        "\n",
        "According to the textbook, the Naive Bayes Classifier uses the following decision rule:\n",
        "\n",
        "\"Choose $y$ such that $$\\bigg[\\log p(y) + \\sum_{j} \\log p(x^{(j)}|y) \\bigg]$$ is the largest\"\n",
        "\n",
        "However, we first need to define the probabilistic models of the prior $p(y)$ and the class-conditional feature distributions $p(x^{(j)}|y)$ using the training data.\n",
        "\n",
        "* **Modelling the prior $p(y)$**: We fit a Bernoulli distribution to the `Outcome` variable of `train_df`.\n",
        "* **Modelling the class-conditional feature distributions $p(x^{(j)}|y)$**: We fit Gaussian distributions, and infer the Gaussian mean and variance parameters from `train_df`."
      ]
    },
    {
      "cell_type": "markdown",
      "metadata": {
        "id": "OcE7R1SOFjS4"
      },
      "source": [
        "# <span style=\"color:blue\">Task 1</span>"
      ]
    },
    {
      "cell_type": "markdown",
      "metadata": {
        "id": "4wp6urcpFjS5"
      },
      "source": [
        "Write a function `log_prior` that takes a numpy array `train_labels` as input, and outputs the following vector as a column numpy array (i.e., with shape $(2,1)$).\n",
        "\n",
        "$$\\log p_y =\\begin{bmatrix}\\log p(y=0)\\\\\\log p(y=1)\\end{bmatrix}$$\n",
        "\n",
        "Try and avoid the utilization of loops as much as possible. No loops are necessary.\n",
        "\n",
        "**Hint**: Make sure all the array shapes are what you need and expect. You can reshape any numpy array without any tangible computational over-head."
      ]
    },
    {
      "cell_type": "code",
      "execution_count": 11,
      "metadata": {
        "id": "DoQmiLb0FjS5",
        "nbgrader": {
          "grade": false,
          "grade_id": "cell-540952d95c213032",
          "locked": false,
          "schema_version": 3,
          "solution": true,
          "task": false
        }
      },
      "outputs": [],
      "source": [
        "def log_prior(train_labels):\n",
        "    ### BEGIN SOLUTION\n",
        "    py_1=train_labels.mean()\n",
        "    py_0=1-py_1\n",
        "    log_py=np.array([np.log(py_0),np.log(py_1)]).reshape(2,1)\n",
        "    ### END SOLUTION\n",
        "    assert log_py.shape == (2,1)\n",
        "    return log_py"
      ]
    },
    {
      "cell_type": "code",
      "execution_count": 12,
      "metadata": {
        "colab": {
          "base_uri": "https://localhost:8080/"
        },
        "id": "ZBsz057qFjS6",
        "outputId": "2f79e91e-366b-4a8f-8f08-d57e3b58a5c4"
      },
      "outputs": [
        {
          "data": {
            "text/plain": [
              "array([[-0.41610786],\n",
              "       [-1.07766068]])"
            ]
          },
          "execution_count": 12,
          "metadata": {},
          "output_type": "execute_result"
        }
      ],
      "source": [
        "log_py = log_prior(train_labels)\n",
        "log_py"
      ]
    },
    {
      "cell_type": "markdown",
      "metadata": {
        "id": "LgjkmauaFjS6"
      },
      "source": [
        "# <span style=\"color:blue\">Task 2</span>"
      ]
    },
    {
      "cell_type": "markdown",
      "metadata": {
        "id": "n_LRsh6BFjS6"
      },
      "source": [
        "Write a function `cc_mean_ignore_missing` that takes the numpy arrays `train_features` and `train_labels` as input, and outputs the following matrix with the shape $(8,2)$, where 8 is the number of features.\n",
        "\n",
        "$$\\mu_y = \\begin{bmatrix} \\mathbb{E}[x^{(0)}|y=0] & \\mathbb{E}[x^{(0)}|y=1]\\\\\n",
        "\\mathbb{E}[x^{(1)}|y=0] & \\mathbb{E}[x^{(1)}|y=1] \\\\\n",
        "\\cdots & \\cdots\\\\\n",
        "\\mathbb{E}[x^{(7)}|y=0] & \\mathbb{E}[x^{(7)}|y=1]\\end{bmatrix}$$\n",
        "\n",
        "Some points regarding this task:\n",
        "\n",
        "* The `train_features` numpy array has a shape of `(N,8)` where `N` is the number of training data points, and 8 is the number of the features. \n",
        "\n",
        "* The `train_labels` numpy array has a shape of `(N,)`. \n",
        "\n",
        "* **You can assume that `train_features` has no missing elements in this task**.\n",
        "\n",
        "* Try and avoid the utilization of loops as much as possible. No loops are necessary."
      ]
    },
    {
      "cell_type": "code",
      "execution_count": 13,
      "metadata": {
        "id": "gZDinYJpFjS6",
        "nbgrader": {
          "grade": false,
          "grade_id": "cell-9482e9412e53e401",
          "locked": false,
          "schema_version": 3,
          "solution": true,
          "task": false
        }
      },
      "outputs": [],
      "source": [
        "def cc_mean_ignore_missing(train_features, train_labels):\n",
        "    N, d = train_features.shape\n",
        "    ### BEGIN SOLUTION\n",
        "    means_success = np.mean(train_features[train_labels==1],axis=0)\n",
        "    means_failure = np.mean(train_features[train_labels==0],axis=0)\n",
        "    mu_y = np.column_stack((means_failure,means_success))\n",
        "    ### END SOLUTION\n",
        "    assert mu_y.shape == (d, 2)\n",
        "    return mu_y"
      ]
    },
    {
      "cell_type": "code",
      "execution_count": 14,
      "metadata": {
        "colab": {
          "base_uri": "https://localhost:8080/"
        },
        "id": "dGmQ9bWeFjS6",
        "outputId": "bd8b1858-035c-48eb-c45d-821810889f7f"
      },
      "outputs": [
        {
          "data": {
            "text/plain": [
              "array([[  3.48641975,   4.91866029],\n",
              "       [109.99753086, 142.30143541],\n",
              "       [ 68.77037037,  70.66028708],\n",
              "       [ 19.51358025,  21.97129187],\n",
              "       [ 66.25679012, 100.55980861],\n",
              "       [ 30.31703704,  35.1492823 ],\n",
              "       [  0.42825926,   0.55279904],\n",
              "       [ 31.57283951,  37.39712919]])"
            ]
          },
          "execution_count": 14,
          "metadata": {},
          "output_type": "execute_result"
        }
      ],
      "source": [
        "mu_y = cc_mean_ignore_missing(train_features, train_labels)\n",
        "mu_y"
      ]
    },
    {
      "cell_type": "markdown",
      "metadata": {
        "id": "IZSH9e2wFjS7"
      },
      "source": [
        "# <span style=\"color:blue\">Task 3</span>"
      ]
    },
    {
      "cell_type": "markdown",
      "metadata": {
        "id": "81Zf1Do0FjS7"
      },
      "source": [
        "Write a function `cc_std_ignore_missing` that takes the numpy arrays `train_features` and `train_labels` as input, and outputs the following matrix with the shape $(8,2)$, where 8 is the number of features.\n",
        "\n",
        "$$\\sigma_y = \\begin{bmatrix} \\text{std}[x^{(0)}|y=0] & \\text{std}[x^{(0)}|y=1]\\\\\n",
        "\\text{std}[x^{(1)}|y=0] & \\text{std}[x^{(1)}|y=1] \\\\\n",
        "\\cdots & \\cdots\\\\\n",
        "\\text{std}[x^{(7)}|y=0] & \\text{std}[x^{(7)}|y=1]\\end{bmatrix}$$\n",
        "\n",
        "Some points regarding this task:\n",
        "\n",
        "* The `train_features` numpy array has a shape of `(N,8)` where `N` is the number of training data points, and 8 is the number of the features. \n",
        "\n",
        "* The `train_labels` numpy array has a shape of `(N,)`. \n",
        "\n",
        "* **You can assume that `train_features` has no missing elements in this task**.\n",
        "\n",
        "* Try and avoid the utilization of loops as much as possible. No loops are necessary."
      ]
    },
    {
      "cell_type": "code",
      "execution_count": 15,
      "metadata": {
        "id": "2C7h9XdMFjS7",
        "nbgrader": {
          "grade": false,
          "grade_id": "cell-410ce572204e37df",
          "locked": false,
          "schema_version": 3,
          "solution": true,
          "task": false
        }
      },
      "outputs": [],
      "source": [
        "def cc_std_ignore_missing(train_features, train_labels):\n",
        "    N, d = train_features.shape\n",
        "    ### BEGIN SOLUTION\n",
        "    sigma_success = np.std(train_features[train_labels==1],axis=0)\n",
        "    sigma_failure = np.std(train_features[train_labels==0],axis=0)\n",
        "    sigma_y = np.column_stack((sigma_failure,sigma_success))\n",
        "    ### END SOLUTION\n",
        "    assert sigma_y.shape == (d, 2)\n",
        "    return sigma_y"
      ]
    },
    {
      "cell_type": "code",
      "execution_count": 16,
      "metadata": {
        "colab": {
          "base_uri": "https://localhost:8080/"
        },
        "id": "m_qeU9fLFjS7",
        "outputId": "d9431f8a-160c-42b9-ac6c-c7593780d1c9"
      },
      "outputs": [
        {
          "data": {
            "text/plain": [
              "array([[  3.1155426 ,   3.75417931],\n",
              "       [ 25.96811899,  32.50910874],\n",
              "       [ 18.07540068,  21.69568568],\n",
              "       [ 15.02320635,  17.21685884],\n",
              "       [ 95.63339586, 139.24364214],\n",
              "       [  7.50030986,   6.6625219 ],\n",
              "       [  0.29438217,   0.37201494],\n",
              "       [ 11.67577435,  11.01543899]])"
            ]
          },
          "execution_count": 16,
          "metadata": {},
          "output_type": "execute_result"
        }
      ],
      "source": [
        "sigma_y = cc_std_ignore_missing(train_features, train_labels)\n",
        "sigma_y"
      ]
    },
    {
      "cell_type": "markdown",
      "metadata": {
        "id": "ocDgKVr9FjS7"
      },
      "source": [
        "# <span style=\"color:blue\">Task 4</span>"
      ]
    },
    {
      "cell_type": "markdown",
      "metadata": {
        "id": "yvbrPN8vFjS7"
      },
      "source": [
        "Write a function `log_prob` that takes the numpy arrays `train_features`, $\\mu_y$, $\\sigma_y$, and  $\\log p_y$ as input, and outputs the following matrix with the shape $(N, 2)$\n",
        "\n",
        "$$\\log p_{x,y} = \\begin{bmatrix} \\bigg[\\log p(y=0) + \\sum_{j=0}^{7} \\log p(x_1^{(j)}|y=0) \\bigg] & \\bigg[\\log p(y=1) + \\sum_{j=0}^{7} \\log p(x_1^{(j)}|y=1) \\bigg] \\\\\n",
        "\\bigg[\\log p(y=0) + \\sum_{j=0}^{7} \\log p(x_2^{(j)}|y=0) \\bigg] & \\bigg[\\log p(y=1) + \\sum_{j=0}^{7} \\log p(x_2^{(j)}|y=1) \\bigg] \\\\\n",
        "\\cdots & \\cdots \\\\\n",
        "\\bigg[\\log p(y=0) + \\sum_{j=0}^{7} \\log p(x_N^{(j)}|y=0) \\bigg] & \\bigg[\\log p(y=1) + \\sum_{j=0}^{7} \\log p(x_N^{(j)}|y=1) \\bigg] \\\\\n",
        "\\end{bmatrix}$$\n",
        "\n",
        "where\n",
        "* $N$ is the number of training data points.\n",
        "* $x_i$ is the $i^{th}$ training data point.\n",
        "\n",
        "Try and avoid the utilization of loops as much as possible. No loops are necessary."
      ]
    },
    {
      "cell_type": "markdown",
      "metadata": {
        "id": "kftlErxkFjS7"
      },
      "source": [
        "**Hint**: Remember that we are modelling $p(x_i^{(j)}|y)$ with a Gaussian whose parameters are defined inside $\\mu_y$ and $\\sigma_y$. Write the Gaussian PDF expression and take its natural log **on paper**, then implement it.\n",
        "\n",
        "**Important Note**: Do not use third-party and non-standard implementations for computing $\\log p(x_i^{(j)}|y)$. Using functions that find the Gaussian PDF, and then taking their log is **numerically unstable**; the Gaussian PDF values can easily become extremely small numbers that cannot be represented using floating point standards and thus would be stored as zero. Taking the log of a zero value will throw an error. On the other hand, it is unnecessary to compute and store $p(x_i^{(j)}|y)$ in order to find $\\log p(x_i^{(j)}|y)$; you can write $\\log p(x_i^{(j)}|y)$ as a direct function of $\\mu_y$, $\\sigma_y$ and the features. This latter approach is numerically stable, and can be applied when the PDF values are much smaller than could be stored using the common standards."
      ]
    },
    {
      "cell_type": "code",
      "execution_count": 17,
      "metadata": {
        "id": "h_ptGmq6FjS7",
        "nbgrader": {
          "grade": false,
          "grade_id": "cell-773a3cddb6c45cf8",
          "locked": false,
          "schema_version": 3,
          "solution": true,
          "task": false
        }
      },
      "outputs": [],
      "source": [
        "def log_prob(features, mu_y, sigma_y, log_py):\n",
        "    N, d = features.shape\n",
        "    ### BEGIN SOLUTION\n",
        "    log_sigma_inv = np.log((1/np.sqrt(2*np.pi))*(1./sigma_y))\n",
        "    x_mu_sigma_false = features - mu_y[:,0].reshape(1,-1)\n",
        "    x_mu_sigma_false = x_mu_sigma_false / sigma_y[:,0].reshape(1,-1)\n",
        "    x_mu_sigma_false = (-1./2.)*np.square(x_mu_sigma_false)\n",
        "    log_p_x_false = log_sigma_inv[:,0].reshape(1,-1) + x_mu_sigma_false\n",
        "    log_p_x_false = np.sum(log_p_x_false, axis = 1, keepdims = True) \n",
        "    log_p_x_false = log_py[0] +log_p_x_false\n",
        "\n",
        "    x_mu_sigma_true = features - mu_y[:,1].reshape(1,-1)\n",
        "    x_mu_sigma_true = x_mu_sigma_true / sigma_y[:,1].reshape(1,-1)\n",
        "    x_mu_sigma_true = (-1./2.)*np.square(x_mu_sigma_true)\n",
        "    log_p_x_true = log_sigma_inv[:,1].reshape(1,-1) + x_mu_sigma_true\n",
        "    log_p_x_true = np.sum(log_p_x_true, axis = 1, keepdims = True) \n",
        "    log_p_x_true = log_py[1] +log_p_x_true\n",
        "    \n",
        "    log_p_x_y = np.concatenate((log_p_x_false, log_p_x_true), axis = 1)\n",
        "    ### END SOLUTION    \n",
        "    assert log_p_x_y.shape == (N,2)\n",
        "    return log_p_x_y"
      ]
    },
    {
      "cell_type": "code",
      "execution_count": 18,
      "metadata": {
        "colab": {
          "base_uri": "https://localhost:8080/"
        },
        "id": "ji1QpTSsFjS8",
        "outputId": "42226f04-a38c-4d95-c564-97e4d5f09900"
      },
      "outputs": [
        {
          "data": {
            "text/plain": [
              "array([[-26.96647828, -31.00418408],\n",
              "       [-32.4755447 , -31.39530914],\n",
              "       [-27.14875996, -31.51999532],\n",
              "       ...,\n",
              "       [-26.29368771, -29.09161966],\n",
              "       [-28.19432943, -30.08324788],\n",
              "       [-26.98605248, -30.80571318]])"
            ]
          },
          "execution_count": 18,
          "metadata": {},
          "output_type": "execute_result"
        }
      ],
      "source": [
        "log_p_x_y = log_prob(train_features, mu_y, sigma_y, log_py)\n",
        "log_p_x_y"
      ]
    },
    {
      "cell_type": "markdown",
      "metadata": {
        "id": "GJY6cj3FFjS8"
      },
      "source": [
        "## 1.1. Writing the Simple Naive Bayes Classifier"
      ]
    },
    {
      "cell_type": "code",
      "execution_count": 19,
      "metadata": {
        "id": "RHv2o9lXFjS8"
      },
      "outputs": [],
      "source": [
        "class NBClassifier():\n",
        "    def __init__(self, train_features, train_labels):\n",
        "        self.train_features = train_features\n",
        "        self.train_labels = train_labels\n",
        "        self.log_py = log_prior(train_labels)\n",
        "        self.mu_y = self.get_cc_means()\n",
        "        self.sigma_y = self.get_cc_std()\n",
        "        \n",
        "    def get_cc_means(self):\n",
        "        mu_y = cc_mean_ignore_missing(self.train_features, self.train_labels)\n",
        "        return mu_y\n",
        "    \n",
        "    def get_cc_std(self):\n",
        "        sigma_y = cc_std_ignore_missing(self.train_features, self.train_labels)\n",
        "        return sigma_y\n",
        "    \n",
        "    def predict(self, features):\n",
        "        log_p_x_y = log_prob(features, mu_y, sigma_y, log_py)\n",
        "        return log_p_x_y.argmax(axis=1)"
      ]
    },
    {
      "cell_type": "code",
      "execution_count": 20,
      "metadata": {
        "id": "h2AL4ZJKFjS8"
      },
      "outputs": [],
      "source": [
        "diabetes_classifier = NBClassifier(train_features, train_labels)\n",
        "train_pred = diabetes_classifier.predict(train_features)\n",
        "eval_pred = diabetes_classifier.predict(eval_features)"
      ]
    },
    {
      "cell_type": "code",
      "execution_count": 21,
      "metadata": {
        "colab": {
          "base_uri": "https://localhost:8080/"
        },
        "id": "dfRSwkgqFjS8",
        "outputId": "6df36b71-8d13-441d-fa38-14b884858226"
      },
      "outputs": [
        {
          "name": "stdout",
          "output_type": "stream",
          "text": [
            "The training data accuracy of your trained model is 0.7671009771986971\n",
            "The evaluation data accuracy of your trained model is 0.7532467532467533\n"
          ]
        }
      ],
      "source": [
        "train_acc = (train_pred==train_labels).mean()\n",
        "eval_acc = (eval_pred==eval_labels).mean()\n",
        "print(f'The training data accuracy of your trained model is {train_acc}')\n",
        "print(f'The evaluation data accuracy of your trained model is {eval_acc}')"
      ]
    },
    {
      "cell_type": "markdown",
      "metadata": {
        "id": "OYucHWhSFjS8"
      },
      "source": [
        "## 1.2 Running an off-the-shelf implementation of Naive-Bayes For Comparison"
      ]
    },
    {
      "cell_type": "code",
      "execution_count": 22,
      "metadata": {
        "colab": {
          "base_uri": "https://localhost:8080/"
        },
        "id": "v5SmMzsRFjS8",
        "outputId": "2457ad9f-ae3d-4f0d-e417-43789b026eec"
      },
      "outputs": [
        {
          "name": "stdout",
          "output_type": "stream",
          "text": [
            "The training data accuracy of your trained model is 0.7671009771986971\n",
            "The evaluation data accuracy of your trained model is 0.7532467532467533\n"
          ]
        }
      ],
      "source": [
        "from sklearn.naive_bayes import GaussianNB\n",
        "\n",
        "gnb = GaussianNB().fit(train_features, train_labels)\n",
        "train_pred_sk = gnb.predict(train_features)\n",
        "eval_pred_sk = gnb.predict(eval_features)\n",
        "print(f'The training data accuracy of your trained model is {(train_pred_sk == train_labels).mean()}')\n",
        "print(f'The evaluation data accuracy of your trained model is {(eval_pred_sk == eval_labels).mean()}')"
      ]
    },
    {
      "cell_type": "markdown",
      "metadata": {
        "id": "7cj9IW3JFjS9"
      },
      "source": [
        "# Part 2 (Building a Naive Bayes Classifier Considering Missing Entries)"
      ]
    },
    {
      "cell_type": "markdown",
      "metadata": {
        "id": "M_1OcxxQFjS9"
      },
      "source": [
        "In this part, we will modify some of the parameter inference functions of the Naive Bayes classifier to make it able to ignore the NaN entries when inferring the Gaussian mean and stds."
      ]
    },
    {
      "cell_type": "markdown",
      "metadata": {
        "id": "pfrf_anyFjS9"
      },
      "source": [
        "# <span style=\"color:blue\">Task 5</span>"
      ]
    },
    {
      "cell_type": "markdown",
      "metadata": {
        "id": "Rtu4OJvNFjS9"
      },
      "source": [
        "Write a function `cc_mean_consider_missing` that\n",
        "* has exactly the same input and output types as the `cc_mean_ignore_missing` function,\n",
        "* and has similar functionality to `cc_mean_ignore_missing` except that it can handle and ignore the NaN entries when computing the class conditional means.\n",
        "\n",
        "You can borrow most of the code from your `cc_mean_ignore_missing` implementation, but you should make it compatible with the existence of NaN values in the features.\n",
        "\n",
        "Try and avoid the utilization of loops as much as possible. No loops are necessary."
      ]
    },
    {
      "cell_type": "markdown",
      "metadata": {
        "id": "bBDUBm9xFjS9"
      },
      "source": [
        "* **Hint**: You may find the `np.nanmean` function useful."
      ]
    },
    {
      "cell_type": "code",
      "execution_count": 23,
      "metadata": {
        "id": "pirvdvq5FjS9",
        "nbgrader": {
          "grade": false,
          "grade_id": "cell-6ab8c367d427a588",
          "locked": false,
          "schema_version": 3,
          "solution": true,
          "task": false
        }
      },
      "outputs": [],
      "source": [
        "def cc_mean_consider_missing(train_features_with_nans, train_labels):\n",
        "    N, d = train_features_with_nans.shape\n",
        "    \n",
        "    ### BEGIN SOLUTION\n",
        "    means_success = np.nanmean(train_features_with_nans[train_labels==1],axis=0)\n",
        "    means_failure = np.nanmean(train_features_with_nans[train_labels==0],axis=0)\n",
        "    mu_y = np.column_stack((means_failure,means_success))\n",
        "    ### END SOLUTION\n",
        "\n",
        "    \n",
        "    assert not np.isnan(mu_y).any()\n",
        "    assert mu_y.shape == (d, 2)\n",
        "    return mu_y"
      ]
    },
    {
      "cell_type": "code",
      "execution_count": 24,
      "metadata": {
        "colab": {
          "base_uri": "https://localhost:8080/"
        },
        "id": "l9EYV0ZYFjS9",
        "outputId": "2b3f43ec-7cc6-4d31-a437-ff413579ca2a",
        "scrolled": true
      },
      "outputs": [
        {
          "data": {
            "text/plain": [
              "array([[  3.48641975,   4.91866029],\n",
              "       [109.99753086, 142.30143541],\n",
              "       [ 71.41538462,  75.34693878],\n",
              "       [ 27.53658537,  32.11188811],\n",
              "       [ 66.25679012, 100.55980861],\n",
              "       [ 30.85025126,  35.31826923],\n",
              "       [  0.42825926,   0.55279904],\n",
              "       [ 31.57283951,  37.39712919]])"
            ]
          },
          "execution_count": 24,
          "metadata": {},
          "output_type": "execute_result"
        }
      ],
      "source": [
        "mu_y = cc_mean_consider_missing(train_features_with_nans, train_labels)\n",
        "mu_y"
      ]
    },
    {
      "cell_type": "markdown",
      "metadata": {
        "id": "6Im7u1MTFjS9"
      },
      "source": [
        "# <span style=\"color:blue\">Task 6</span>"
      ]
    },
    {
      "cell_type": "markdown",
      "metadata": {
        "id": "GrLR26svFjS9"
      },
      "source": [
        "Write a function `cc_std_consider_missing` that\n",
        "* has exactly the same input and output types as the `cc_std_ignore_missing` function,\n",
        "* and has similar functionality to `cc_std_ignore_missing` except that it can handle and ignore the NaN entries when computing the class conditional means.\n",
        "\n",
        "You can borrow most of the code from your `cc_std_ignore_missing` implementation, but you should make it compatible with the existence of NaN values in the features.\n",
        "\n",
        "Try and avoid the utilization of loops as much as possible. No loops are necessary."
      ]
    },
    {
      "cell_type": "markdown",
      "metadata": {
        "id": "eOAy_O5yFjS9"
      },
      "source": [
        "* **Hint**: You may find the `np.nanstd` function useful."
      ]
    },
    {
      "cell_type": "code",
      "execution_count": 25,
      "metadata": {
        "id": "ACTPd0_uFjS-",
        "nbgrader": {
          "grade": false,
          "grade_id": "cell-927753c6215c5646",
          "locked": false,
          "schema_version": 3,
          "solution": true,
          "task": false
        }
      },
      "outputs": [],
      "source": [
        "def cc_std_consider_missing(train_features_with_nans, train_labels):\n",
        "    N, d = train_features_with_nans.shape\n",
        "    \n",
        "    ### BEGIN SOLUTION\n",
        "    sigma_success = np.nanstd(train_features_with_nans[train_labels==1],axis=0)\n",
        "    sigma_failure = np.nanstd(train_features_with_nans[train_labels==0],axis=0)\n",
        "    sigma_y = np.column_stack((sigma_failure,sigma_success))\n",
        "    ### END SOLUTION\n",
        "     \n",
        "    assert not np.isnan(sigma_y).any()\n",
        "    assert sigma_y.shape == (d, 2)\n",
        "    return sigma_y"
      ]
    },
    {
      "cell_type": "code",
      "execution_count": 26,
      "metadata": {
        "colab": {
          "base_uri": "https://localhost:8080/"
        },
        "id": "NB7ELRKoFjS-",
        "outputId": "02ebc084-92bd-4f63-a198-5823e4a392ec",
        "scrolled": true
      },
      "outputs": [
        {
          "data": {
            "text/plain": [
              "array([[  3.1155426 ,   3.75417931],\n",
              "       [ 25.96811899,  32.50910874],\n",
              "       [ 12.26342359,  12.1982786 ],\n",
              "       [  9.87753687,  10.37284304],\n",
              "       [ 95.63339586, 139.24364214],\n",
              "       [  6.38703834,   6.21564813],\n",
              "       [  0.29438217,   0.37201494],\n",
              "       [ 11.67577435,  11.01543899]])"
            ]
          },
          "execution_count": 26,
          "metadata": {},
          "output_type": "execute_result"
        }
      ],
      "source": [
        "sigma_y = cc_std_consider_missing(train_features_with_nans, train_labels)\n",
        "sigma_y"
      ]
    },
    {
      "cell_type": "markdown",
      "metadata": {
        "id": "sGnCixqNFjS-"
      },
      "source": [
        "## 2.1. Writing the Naive Bayes Classifier With Missing Data Handling"
      ]
    },
    {
      "cell_type": "code",
      "execution_count": 27,
      "metadata": {
        "id": "UNgl1JGQFjS-"
      },
      "outputs": [],
      "source": [
        "class NBClassifierWithMissing(NBClassifier):\n",
        "    def get_cc_means(self):\n",
        "        mu_y = cc_mean_consider_missing(self.train_features, self.train_labels)\n",
        "        return mu_y\n",
        "    \n",
        "    def get_cc_std(self):\n",
        "        sigma_y = cc_std_consider_missing(self.train_features, self.train_labels)\n",
        "        return sigma_y"
      ]
    },
    {
      "cell_type": "code",
      "execution_count": 28,
      "metadata": {
        "id": "iDstqMA9FjS-"
      },
      "outputs": [],
      "source": [
        "diabetes_classifier_nans = NBClassifierWithMissing(train_features_with_nans, train_labels)\n",
        "train_pred = diabetes_classifier_nans.predict(train_features_with_nans)\n",
        "eval_pred = diabetes_classifier_nans.predict(eval_features_with_nans)"
      ]
    },
    {
      "cell_type": "code",
      "execution_count": 29,
      "metadata": {
        "colab": {
          "base_uri": "https://localhost:8080/"
        },
        "id": "wsb7jo9rFjS-",
        "outputId": "0e73bfee-826c-45f6-dd27-6d58721ef6ee"
      },
      "outputs": [
        {
          "name": "stdout",
          "output_type": "stream",
          "text": [
            "The training data accuracy of your trained model is 0.7182410423452769\n",
            "The evaluation data accuracy of your trained model is 0.7142857142857143\n"
          ]
        }
      ],
      "source": [
        "train_acc = (train_pred==train_labels).mean()\n",
        "eval_acc = (eval_pred==eval_labels).mean()\n",
        "print(f'The training data accuracy of your trained model is {train_acc}')\n",
        "print(f'The evaluation data accuracy of your trained model is {eval_acc}')"
      ]
    },
    {
      "cell_type": "markdown",
      "metadata": {
        "id": "LqnP0nIEFjS-"
      },
      "source": [
        "# 3. Running SVMlight"
      ]
    },
    {
      "cell_type": "markdown",
      "metadata": {
        "id": "If09FVANFjS-"
      },
      "source": [
        "In this section, we are going to investigate the support vector machine classification method. We will become familiar with this classification method in week 3. However, in this section, we are just going to observe how this method performs to set the stage for the third week.\n",
        "\n",
        "`SVMlight` (http://svmlight.joachims.org/) is a famous implementation of the SVM classifier. \n",
        "\n",
        "`SVMLight` can be called from a shell terminal, and there is no nice wrapper for it in python3. Therefore:\n",
        "1. We have to export the training data to a special format called `svmlight/libsvm`. This can be done using scikit-learn.\n",
        "2. We have to run the `svm_learn` program to learn the model and then store it.\n",
        "3. We have to import the model back to python."
      ]
    },
    {
      "cell_type": "markdown",
      "metadata": {
        "id": "cX4R9aznFjS-"
      },
      "source": [
        "## 3.1 Exporting the training data to libsvm format"
      ]
    },
    {
      "cell_type": "code",
      "execution_count": 37,
      "metadata": {
        "colab": {
          "base_uri": "https://localhost:8080/",
          "height": 334
        },
        "id": "s2fXZjqgFjS-",
        "outputId": "cffda1d6-62b3-4009-eee3-6b60d043d14f"
      },
      "outputs": [
        {
          "ename": "ModuleNotFoundError",
          "evalue": "ignored",
          "output_type": "error",
          "traceback": [
            "\u001b[0;31m---------------------------------------------------------------------------\u001b[0m",
            "\u001b[0;31mModuleNotFoundError\u001b[0m                       Traceback (most recent call last)",
            "\u001b[0;32m<ipython-input-37-dd8422f63038>\u001b[0m in \u001b[0;36m<module>\u001b[0;34m\u001b[0m\n\u001b[0;32m----> 1\u001b[0;31m \u001b[0;32mfrom\u001b[0m \u001b[0mscikit_learn\u001b[0m\u001b[0;34m.\u001b[0m\u001b[0msklearn\u001b[0m\u001b[0;34m.\u001b[0m\u001b[0mdatasets\u001b[0m \u001b[0;32mimport\u001b[0m \u001b[0mdump_svmlight_file\u001b[0m\u001b[0;34m\u001b[0m\u001b[0;34m\u001b[0m\u001b[0m\n\u001b[0m\u001b[1;32m      2\u001b[0m dump_svmlight_file(train_features, 2*train_labels-1, 'training_feats.data', \n\u001b[1;32m      3\u001b[0m                    zero_based=False, comment=None, query_id=None, multilabel=False)\n",
            "\u001b[0;31mModuleNotFoundError\u001b[0m: No module named 'scikit_learn'",
            "",
            "\u001b[0;31m---------------------------------------------------------------------------\u001b[0;32m\nNOTE: If your import is failing due to a missing package, you can\nmanually install dependencies using either !pip or !apt.\n\nTo view examples of installing some common dependencies, click the\n\"Open Examples\" button below.\n\u001b[0;31m---------------------------------------------------------------------------\u001b[0m\n"
          ]
        }
      ],
      "source": [
        "from scikit_learn.sklearn.datasets import dump_svmlight_file\n",
        "dump_svmlight_file(train_features, 2*train_labels-1, 'training_feats.data', \n",
        "                   zero_based=False, comment=None, query_id=None, multilabel=False)"
      ]
    },
    {
      "cell_type": "markdown",
      "metadata": {
        "id": "LP6oDLKUFjS-"
      },
      "source": [
        "## 3.2 Training `SVMlight`"
      ]
    },
    {
      "cell_type": "code",
      "execution_count": 67,
      "metadata": {
        "colab": {
          "base_uri": "https://localhost:8080/"
        },
        "id": "clsB0wUMFjS_",
        "outputId": "80ad189a-e22b-428a-b4a8-079278da607e"
      },
      "outputs": [
        {
          "name": "stdout",
          "output_type": "stream",
          "text": [
            "Scanning examples...done\n",
            "Reading examples into memory...100..200..300..400..500..600..OK. (614 examples read)\n",
            "Setting default regularization parameter C=0.0000\n",
            "Optimizing....................................................................................................................................................................................................................................................................................................................................................................................................................................................................................................................................................................................................................................................................................................................................................................................................................................................................................................................................................................................................................................................................................................................................................................................................................................................................................................................................................................................................................................................................................................................................................................................................................................................................................................................................................................................................................................................done. (1781 iterations)\n",
            "Optimization finished (141 misclassified, maxdiff=0.00099).\n",
            "Runtime in cpu-seconds: 0.25\n",
            "Number of SV: 375 (including 369 at upper bound)\n",
            "L1 loss: loss=335.23204\n",
            "Norm of weight vector: |w|=0.03179\n",
            "Norm of longest example vector: |x|=871.75350\n",
            "Estimated VCdim of classifier: VCdim<=769.24695\n",
            "Computing XiAlpha-estimates...done\n",
            "Runtime for XiAlpha-estimates in cpu-seconds: 0.00\n",
            "XiAlpha-estimate of the error: error<=60.75% (rho=1.00,depth=0)\n",
            "XiAlpha-estimate of the recall: recall=>10.53% (rho=1.00,depth=0)\n",
            "XiAlpha-estimate of the precision: precision=>10.58% (rho=1.00,depth=0)\n",
            "Number of kernel evaluations: 71356\n",
            "Writing model file...done\n",
            "\n"
          ]
        }
      ],
      "source": [
        "!chmod 755 -R svm_learn\n",
        "from subprocess import Popen, PIPE\n",
        "process = Popen([\"./svm_learn\", \"/content/training_feats.data\", \"/content/svm_model.txt\"], stdout=PIPE, stderr=PIPE)\n",
        "stdout, stderr = process.communicate()\n",
        "print(stdout.decode(\"utf-8\"))"
      ]
    },
    {
      "cell_type": "markdown",
      "metadata": {
        "id": "CcBMOIkPFjS_"
      },
      "source": [
        "## 3.3 Importing the SVM Model"
      ]
    },
    {
      "cell_type": "code",
      "execution_count": 68,
      "metadata": {
        "id": "mM2Gkf9nFjS_"
      },
      "outputs": [],
      "source": [
        "from svm2weight import get_svmlight_weights\n",
        "svm_weights, thresh = get_svmlight_weights('svm_model.txt', printOutput=False)\n",
        "\n",
        "def svmlight_classifier(train_features):\n",
        "    return (train_features @ svm_weights - thresh).reshape(-1) >= 0."
      ]
    },
    {
      "cell_type": "code",
      "execution_count": 69,
      "metadata": {
        "id": "pxoSRpKKFjS_"
      },
      "outputs": [],
      "source": [
        "train_pred = svmlight_classifier(train_features)\n",
        "eval_pred = svmlight_classifier(eval_features)"
      ]
    },
    {
      "cell_type": "code",
      "execution_count": 70,
      "metadata": {
        "colab": {
          "base_uri": "https://localhost:8080/"
        },
        "id": "oYi6ahDTFjS_",
        "outputId": "5c52a7fe-2b4a-443f-c5a7-97b771ed6e83"
      },
      "outputs": [
        {
          "name": "stdout",
          "output_type": "stream",
          "text": [
            "The training data accuracy of your trained model is 0.7703583061889251\n",
            "The evaluation data accuracy of your trained model is 0.7402597402597403\n"
          ]
        }
      ],
      "source": [
        "train_acc = (train_pred==train_labels).mean()\n",
        "eval_acc = (eval_pred==eval_labels).mean()\n",
        "print(f'The training data accuracy of your trained model is {train_acc}')\n",
        "print(f'The evaluation data accuracy of your trained model is {eval_acc}')"
      ]
    }
  ],
  "metadata": {
    "celltoolbar": "Create Assignment",
    "colab": {
      "name": "BasicClassification.ipynb",
      "provenance": []
    },
    "kernelspec": {
      "display_name": "Python 3.10.6 ('machine_learning': venv)",
      "language": "python",
      "name": "python3"
    },
    "language_info": {
      "codemirror_mode": {
        "name": "ipython",
        "version": 3
      },
      "file_extension": ".py",
      "mimetype": "text/x-python",
      "name": "python",
      "nbconvert_exporter": "python",
      "pygments_lexer": "ipython3",
      "version": "3.10.6"
    },
    "vscode": {
      "interpreter": {
        "hash": "ef08550d2605d1f7061e009568e26d7e2c96e3966282df2696cc19a36d1fd670"
      }
    }
  },
  "nbformat": 4,
  "nbformat_minor": 0
}
